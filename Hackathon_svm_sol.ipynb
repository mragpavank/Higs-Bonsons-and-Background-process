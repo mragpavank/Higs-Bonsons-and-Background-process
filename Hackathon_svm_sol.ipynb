{
 "cells": [
  {
   "cell_type": "code",
   "execution_count": 1,
   "metadata": {},
   "outputs": [],
   "source": [
    "import os\n",
    "import numpy as np\n",
    "import pandas as pd"
   ]
  },
  {
   "cell_type": "code",
   "execution_count": 2,
   "metadata": {},
   "outputs": [],
   "source": [
    "import warnings\n",
    "warnings.filterwarnings(\"ignore\")"
   ]
  },
  {
   "cell_type": "code",
   "execution_count": 3,
   "metadata": {},
   "outputs": [
    {
     "data": {
      "text/plain": [
       "'C:\\\\Users\\\\Pavan\\\\Desktop\\\\Hackathon\\\\Higs Bonsons and Background process Hackathon'"
      ]
     },
     "execution_count": 3,
     "metadata": {},
     "output_type": "execute_result"
    }
   ],
   "source": [
    "pwd"
   ]
  },
  {
   "cell_type": "code",
   "execution_count": 4,
   "metadata": {},
   "outputs": [],
   "source": [
    "data = pd.read_csv(\"C:/Users/Pavan/Desktop/Hackathon/Higs Bonsons and Background process Hackathon/train.csv\",na_values=\"?\")"
   ]
  },
  {
   "cell_type": "code",
   "execution_count": 5,
   "metadata": {},
   "outputs": [
    {
     "data": {
      "text/plain": [
       "(68636, 30)"
      ]
     },
     "execution_count": 5,
     "metadata": {},
     "output_type": "execute_result"
    }
   ],
   "source": [
    "data.shape"
   ]
  },
  {
   "cell_type": "code",
   "execution_count": 6,
   "metadata": {},
   "outputs": [
    {
     "data": {
      "text/html": [
       "<div>\n",
       "<style scoped>\n",
       "    .dataframe tbody tr th:only-of-type {\n",
       "        vertical-align: middle;\n",
       "    }\n",
       "\n",
       "    .dataframe tbody tr th {\n",
       "        vertical-align: top;\n",
       "    }\n",
       "\n",
       "    .dataframe thead th {\n",
       "        text-align: right;\n",
       "    }\n",
       "</style>\n",
       "<table border=\"1\" class=\"dataframe\">\n",
       "  <thead>\n",
       "    <tr style=\"text-align: right;\">\n",
       "      <th></th>\n",
       "      <th>class</th>\n",
       "      <th>lepton_pT</th>\n",
       "      <th>lepton_eta</th>\n",
       "      <th>lepton_phi</th>\n",
       "      <th>missing_energy_magnitude</th>\n",
       "      <th>missing_energy_phi</th>\n",
       "      <th>jet1pt</th>\n",
       "      <th>jet1eta</th>\n",
       "      <th>jet1phi</th>\n",
       "      <th>jet1b.tag</th>\n",
       "      <th>...</th>\n",
       "      <th>jet4phi</th>\n",
       "      <th>jet4b.tag</th>\n",
       "      <th>m_jj</th>\n",
       "      <th>m_jjj</th>\n",
       "      <th>m_lv</th>\n",
       "      <th>m_jlv</th>\n",
       "      <th>m_bb</th>\n",
       "      <th>m_wbb</th>\n",
       "      <th>m_wwbb</th>\n",
       "      <th>id</th>\n",
       "    </tr>\n",
       "  </thead>\n",
       "  <tbody>\n",
       "    <tr>\n",
       "      <td>0</td>\n",
       "      <td>1</td>\n",
       "      <td>0.907542</td>\n",
       "      <td>0.329147</td>\n",
       "      <td>0.359412</td>\n",
       "      <td>1.497970</td>\n",
       "      <td>-0.313010</td>\n",
       "      <td>1.095531</td>\n",
       "      <td>-0.557525</td>\n",
       "      <td>-1.588230</td>\n",
       "      <td>2.173076</td>\n",
       "      <td>...</td>\n",
       "      <td>-0.000819</td>\n",
       "      <td>0.000000</td>\n",
       "      <td>0.302220</td>\n",
       "      <td>0.833048</td>\n",
       "      <td>0.985700</td>\n",
       "      <td>0.978098</td>\n",
       "      <td>0.779732</td>\n",
       "      <td>0.992356</td>\n",
       "      <td>0.798343</td>\n",
       "      <td>1</td>\n",
       "    </tr>\n",
       "    <tr>\n",
       "      <td>1</td>\n",
       "      <td>1</td>\n",
       "      <td>0.798835</td>\n",
       "      <td>1.470639</td>\n",
       "      <td>-1.635975</td>\n",
       "      <td>0.453773</td>\n",
       "      <td>0.425629</td>\n",
       "      <td>1.104875</td>\n",
       "      <td>1.282322</td>\n",
       "      <td>1.381664</td>\n",
       "      <td>0.000000</td>\n",
       "      <td>...</td>\n",
       "      <td>0.900461</td>\n",
       "      <td>0.000000</td>\n",
       "      <td>0.909753</td>\n",
       "      <td>1.108330</td>\n",
       "      <td>0.985692</td>\n",
       "      <td>0.951331</td>\n",
       "      <td>0.803252</td>\n",
       "      <td>0.865924</td>\n",
       "      <td>0.780118</td>\n",
       "      <td>2</td>\n",
       "    </tr>\n",
       "    <tr>\n",
       "      <td>2</td>\n",
       "      <td>0</td>\n",
       "      <td>1.344385</td>\n",
       "      <td>-0.876626</td>\n",
       "      <td>0.935913</td>\n",
       "      <td>1.992050</td>\n",
       "      <td>0.882454</td>\n",
       "      <td>1.786066</td>\n",
       "      <td>-1.646778</td>\n",
       "      <td>-0.942383</td>\n",
       "      <td>0.000000</td>\n",
       "      <td>...</td>\n",
       "      <td>-1.360356</td>\n",
       "      <td>0.000000</td>\n",
       "      <td>0.946652</td>\n",
       "      <td>1.028704</td>\n",
       "      <td>0.998656</td>\n",
       "      <td>0.728281</td>\n",
       "      <td>0.869200</td>\n",
       "      <td>1.026736</td>\n",
       "      <td>0.957904</td>\n",
       "      <td>3</td>\n",
       "    </tr>\n",
       "    <tr>\n",
       "      <td>3</td>\n",
       "      <td>0</td>\n",
       "      <td>1.595839</td>\n",
       "      <td>-0.607811</td>\n",
       "      <td>0.007075</td>\n",
       "      <td>1.818450</td>\n",
       "      <td>-0.111906</td>\n",
       "      <td>0.847550</td>\n",
       "      <td>-0.566437</td>\n",
       "      <td>1.581239</td>\n",
       "      <td>2.173076</td>\n",
       "      <td>...</td>\n",
       "      <td>-1.274345</td>\n",
       "      <td>3.101961</td>\n",
       "      <td>0.823761</td>\n",
       "      <td>0.938191</td>\n",
       "      <td>0.971758</td>\n",
       "      <td>0.789176</td>\n",
       "      <td>0.430553</td>\n",
       "      <td>0.961357</td>\n",
       "      <td>0.957818</td>\n",
       "      <td>4</td>\n",
       "    </tr>\n",
       "    <tr>\n",
       "      <td>4</td>\n",
       "      <td>1</td>\n",
       "      <td>0.409391</td>\n",
       "      <td>-1.884684</td>\n",
       "      <td>-1.027292</td>\n",
       "      <td>1.672452</td>\n",
       "      <td>-1.604598</td>\n",
       "      <td>1.338015</td>\n",
       "      <td>0.055427</td>\n",
       "      <td>0.013466</td>\n",
       "      <td>2.173076</td>\n",
       "      <td>...</td>\n",
       "      <td>1.377130</td>\n",
       "      <td>3.101961</td>\n",
       "      <td>0.869418</td>\n",
       "      <td>1.222083</td>\n",
       "      <td>1.000627</td>\n",
       "      <td>0.545045</td>\n",
       "      <td>0.698653</td>\n",
       "      <td>0.977314</td>\n",
       "      <td>0.828786</td>\n",
       "      <td>5</td>\n",
       "    </tr>\n",
       "  </tbody>\n",
       "</table>\n",
       "<p>5 rows × 30 columns</p>\n",
       "</div>"
      ],
      "text/plain": [
       "   class  lepton_pT  lepton_eta  lepton_phi  missing_energy_magnitude  \\\n",
       "0      1   0.907542    0.329147    0.359412                  1.497970   \n",
       "1      1   0.798835    1.470639   -1.635975                  0.453773   \n",
       "2      0   1.344385   -0.876626    0.935913                  1.992050   \n",
       "3      0   1.595839   -0.607811    0.007075                  1.818450   \n",
       "4      1   0.409391   -1.884684   -1.027292                  1.672452   \n",
       "\n",
       "   missing_energy_phi    jet1pt   jet1eta   jet1phi  jet1b.tag  ...   jet4phi  \\\n",
       "0           -0.313010  1.095531 -0.557525 -1.588230   2.173076  ... -0.000819   \n",
       "1            0.425629  1.104875  1.282322  1.381664   0.000000  ...  0.900461   \n",
       "2            0.882454  1.786066 -1.646778 -0.942383   0.000000  ... -1.360356   \n",
       "3           -0.111906  0.847550 -0.566437  1.581239   2.173076  ... -1.274345   \n",
       "4           -1.604598  1.338015  0.055427  0.013466   2.173076  ...  1.377130   \n",
       "\n",
       "   jet4b.tag      m_jj     m_jjj      m_lv     m_jlv      m_bb     m_wbb  \\\n",
       "0   0.000000  0.302220  0.833048  0.985700  0.978098  0.779732  0.992356   \n",
       "1   0.000000  0.909753  1.108330  0.985692  0.951331  0.803252  0.865924   \n",
       "2   0.000000  0.946652  1.028704  0.998656  0.728281  0.869200  1.026736   \n",
       "3   3.101961  0.823761  0.938191  0.971758  0.789176  0.430553  0.961357   \n",
       "4   3.101961  0.869418  1.222083  1.000627  0.545045  0.698653  0.977314   \n",
       "\n",
       "     m_wwbb  id  \n",
       "0  0.798343   1  \n",
       "1  0.780118   2  \n",
       "2  0.957904   3  \n",
       "3  0.957818   4  \n",
       "4  0.828786   5  \n",
       "\n",
       "[5 rows x 30 columns]"
      ]
     },
     "execution_count": 6,
     "metadata": {},
     "output_type": "execute_result"
    }
   ],
   "source": [
    "data.head()"
   ]
  },
  {
   "cell_type": "markdown",
   "metadata": {},
   "source": [
    "Check the value of counts in lepton_pT"
   ]
  },
  {
   "cell_type": "code",
   "execution_count": 7,
   "metadata": {},
   "outputs": [
    {
     "data": {
      "text/plain": [
       "class                           2\n",
       "lepton_pT                   18514\n",
       "lepton_eta                   8919\n",
       "lepton_phi                  11806\n",
       "missing_energy_magnitude    66854\n",
       "missing_energy_phi          66804\n",
       "jet1pt                      25954\n",
       "jet1eta                      9422\n",
       "jet1phi                     11713\n",
       "jet1b.tag                       5\n",
       "jet2pt                      22270\n",
       "jet2eta                      9658\n",
       "jet2phi                     11827\n",
       "jet2b.tag                       5\n",
       "jet3pt                      17882\n",
       "jet3eta                     10089\n",
       "jet3phi                     11753\n",
       "jet3b.tag                       5\n",
       "jet4pt                      13935\n",
       "jet4eta                     10516\n",
       "jet4phi                     11801\n",
       "jet4b.tag                       5\n",
       "m_jj                        65748\n",
       "m_jjj                       57372\n",
       "m_lv                        42247\n",
       "m_jlv                       60935\n",
       "m_bb                        62851\n",
       "m_wbb                       63301\n",
       "m_wwbb                      64483\n",
       "id                          68636\n",
       "dtype: int64"
      ]
     },
     "execution_count": 7,
     "metadata": {},
     "output_type": "execute_result"
    }
   ],
   "source": [
    "data.nunique()"
   ]
  },
  {
   "cell_type": "code",
   "execution_count": 8,
   "metadata": {},
   "outputs": [
    {
     "data": {
      "text/plain": [
       "class                         int64\n",
       "lepton_pT                   float64\n",
       "lepton_eta                  float64\n",
       "lepton_phi                  float64\n",
       "missing_energy_magnitude    float64\n",
       "missing_energy_phi          float64\n",
       "jet1pt                      float64\n",
       "jet1eta                     float64\n",
       "jet1phi                     float64\n",
       "jet1b.tag                   float64\n",
       "jet2pt                      float64\n",
       "jet2eta                     float64\n",
       "jet2phi                     float64\n",
       "jet2b.tag                   float64\n",
       "jet3pt                      float64\n",
       "jet3eta                     float64\n",
       "jet3phi                     float64\n",
       "jet3b.tag                   float64\n",
       "jet4pt                      float64\n",
       "jet4eta                     float64\n",
       "jet4phi                     float64\n",
       "jet4b.tag                   float64\n",
       "m_jj                        float64\n",
       "m_jjj                       float64\n",
       "m_lv                        float64\n",
       "m_jlv                       float64\n",
       "m_bb                        float64\n",
       "m_wbb                       float64\n",
       "m_wwbb                      float64\n",
       "id                            int64\n",
       "dtype: object"
      ]
     },
     "execution_count": 8,
     "metadata": {},
     "output_type": "execute_result"
    }
   ],
   "source": [
    "data.dtypes"
   ]
  },
  {
   "cell_type": "code",
   "execution_count": 9,
   "metadata": {},
   "outputs": [
    {
     "data": {
      "text/plain": [
       "Index(['class', 'jet1b.tag', 'jet2b.tag', 'jet3b.tag', 'jet4b.tag'], dtype='object')"
      ]
     },
     "execution_count": 9,
     "metadata": {},
     "output_type": "execute_result"
    }
   ],
   "source": [
    "cat_cols = data.columns[data.nunique() <= 5]\n",
    "cat_cols"
   ]
  },
  {
   "cell_type": "code",
   "execution_count": 10,
   "metadata": {},
   "outputs": [
    {
     "data": {
      "text/plain": [
       "Index(['lepton_pT', 'lepton_eta', 'lepton_phi', 'missing_energy_magnitude',\n",
       "       'missing_energy_phi', 'jet1pt', 'jet1eta', 'jet1phi', 'jet2pt',\n",
       "       'jet2eta', 'jet2phi', 'jet3pt', 'jet3eta', 'jet3phi', 'jet4pt',\n",
       "       'jet4eta', 'jet4phi', 'm_jj', 'm_jjj', 'm_lv', 'm_jlv', 'm_bb', 'm_wbb',\n",
       "       'm_wwbb', 'id'],\n",
       "      dtype='object')"
      ]
     },
     "execution_count": 10,
     "metadata": {},
     "output_type": "execute_result"
    }
   ],
   "source": [
    "num_cols = data.columns[data.nunique() > 5]\n",
    "num_cols"
   ]
  },
  {
   "cell_type": "markdown",
   "metadata": {},
   "source": [
    "# Drop columns which are not significant"
   ]
  },
  {
   "cell_type": "code",
   "execution_count": 11,
   "metadata": {},
   "outputs": [],
   "source": [
    "#we are removing ID since it has all the unique values which means number of rows(68636) is equal to number of unique values of ID\n",
    "data.drop([\"id\"], axis = 1, inplace=True)\n",
    "num_cols = data.columns[data.nunique() > 5]"
   ]
  },
  {
   "cell_type": "code",
   "execution_count": 12,
   "metadata": {},
   "outputs": [
    {
     "data": {
      "text/html": [
       "<div>\n",
       "<style scoped>\n",
       "    .dataframe tbody tr th:only-of-type {\n",
       "        vertical-align: middle;\n",
       "    }\n",
       "\n",
       "    .dataframe tbody tr th {\n",
       "        vertical-align: top;\n",
       "    }\n",
       "\n",
       "    .dataframe thead th {\n",
       "        text-align: right;\n",
       "    }\n",
       "</style>\n",
       "<table border=\"1\" class=\"dataframe\">\n",
       "  <thead>\n",
       "    <tr style=\"text-align: right;\">\n",
       "      <th></th>\n",
       "      <th>class</th>\n",
       "      <th>lepton_pT</th>\n",
       "      <th>lepton_eta</th>\n",
       "      <th>lepton_phi</th>\n",
       "      <th>missing_energy_magnitude</th>\n",
       "      <th>missing_energy_phi</th>\n",
       "      <th>jet1pt</th>\n",
       "      <th>jet1eta</th>\n",
       "      <th>jet1phi</th>\n",
       "      <th>jet1b.tag</th>\n",
       "      <th>...</th>\n",
       "      <th>jet4eta</th>\n",
       "      <th>jet4phi</th>\n",
       "      <th>jet4b.tag</th>\n",
       "      <th>m_jj</th>\n",
       "      <th>m_jjj</th>\n",
       "      <th>m_lv</th>\n",
       "      <th>m_jlv</th>\n",
       "      <th>m_bb</th>\n",
       "      <th>m_wbb</th>\n",
       "      <th>m_wwbb</th>\n",
       "    </tr>\n",
       "  </thead>\n",
       "  <tbody>\n",
       "    <tr>\n",
       "      <td>0</td>\n",
       "      <td>1</td>\n",
       "      <td>0.907542</td>\n",
       "      <td>0.329147</td>\n",
       "      <td>0.359412</td>\n",
       "      <td>1.497970</td>\n",
       "      <td>-0.313010</td>\n",
       "      <td>1.095531</td>\n",
       "      <td>-0.557525</td>\n",
       "      <td>-1.588230</td>\n",
       "      <td>2.173076</td>\n",
       "      <td>...</td>\n",
       "      <td>-1.138930</td>\n",
       "      <td>-0.000819</td>\n",
       "      <td>0.000000</td>\n",
       "      <td>0.302220</td>\n",
       "      <td>0.833048</td>\n",
       "      <td>0.985700</td>\n",
       "      <td>0.978098</td>\n",
       "      <td>0.779732</td>\n",
       "      <td>0.992356</td>\n",
       "      <td>0.798343</td>\n",
       "    </tr>\n",
       "    <tr>\n",
       "      <td>1</td>\n",
       "      <td>1</td>\n",
       "      <td>0.798835</td>\n",
       "      <td>1.470639</td>\n",
       "      <td>-1.635975</td>\n",
       "      <td>0.453773</td>\n",
       "      <td>0.425629</td>\n",
       "      <td>1.104875</td>\n",
       "      <td>1.282322</td>\n",
       "      <td>1.381664</td>\n",
       "      <td>0.000000</td>\n",
       "      <td>...</td>\n",
       "      <td>1.128848</td>\n",
       "      <td>0.900461</td>\n",
       "      <td>0.000000</td>\n",
       "      <td>0.909753</td>\n",
       "      <td>1.108330</td>\n",
       "      <td>0.985692</td>\n",
       "      <td>0.951331</td>\n",
       "      <td>0.803252</td>\n",
       "      <td>0.865924</td>\n",
       "      <td>0.780118</td>\n",
       "    </tr>\n",
       "    <tr>\n",
       "      <td>2</td>\n",
       "      <td>0</td>\n",
       "      <td>1.344385</td>\n",
       "      <td>-0.876626</td>\n",
       "      <td>0.935913</td>\n",
       "      <td>1.992050</td>\n",
       "      <td>0.882454</td>\n",
       "      <td>1.786066</td>\n",
       "      <td>-1.646778</td>\n",
       "      <td>-0.942383</td>\n",
       "      <td>0.000000</td>\n",
       "      <td>...</td>\n",
       "      <td>-0.678379</td>\n",
       "      <td>-1.360356</td>\n",
       "      <td>0.000000</td>\n",
       "      <td>0.946652</td>\n",
       "      <td>1.028704</td>\n",
       "      <td>0.998656</td>\n",
       "      <td>0.728281</td>\n",
       "      <td>0.869200</td>\n",
       "      <td>1.026736</td>\n",
       "      <td>0.957904</td>\n",
       "    </tr>\n",
       "    <tr>\n",
       "      <td>3</td>\n",
       "      <td>0</td>\n",
       "      <td>1.595839</td>\n",
       "      <td>-0.607811</td>\n",
       "      <td>0.007075</td>\n",
       "      <td>1.818450</td>\n",
       "      <td>-0.111906</td>\n",
       "      <td>0.847550</td>\n",
       "      <td>-0.566437</td>\n",
       "      <td>1.581239</td>\n",
       "      <td>2.173076</td>\n",
       "      <td>...</td>\n",
       "      <td>-0.654227</td>\n",
       "      <td>-1.274345</td>\n",
       "      <td>3.101961</td>\n",
       "      <td>0.823761</td>\n",
       "      <td>0.938191</td>\n",
       "      <td>0.971758</td>\n",
       "      <td>0.789176</td>\n",
       "      <td>0.430553</td>\n",
       "      <td>0.961357</td>\n",
       "      <td>0.957818</td>\n",
       "    </tr>\n",
       "    <tr>\n",
       "      <td>4</td>\n",
       "      <td>1</td>\n",
       "      <td>0.409391</td>\n",
       "      <td>-1.884684</td>\n",
       "      <td>-1.027292</td>\n",
       "      <td>1.672452</td>\n",
       "      <td>-1.604598</td>\n",
       "      <td>1.338015</td>\n",
       "      <td>0.055427</td>\n",
       "      <td>0.013466</td>\n",
       "      <td>2.173076</td>\n",
       "      <td>...</td>\n",
       "      <td>0.069496</td>\n",
       "      <td>1.377130</td>\n",
       "      <td>3.101961</td>\n",
       "      <td>0.869418</td>\n",
       "      <td>1.222083</td>\n",
       "      <td>1.000627</td>\n",
       "      <td>0.545045</td>\n",
       "      <td>0.698653</td>\n",
       "      <td>0.977314</td>\n",
       "      <td>0.828786</td>\n",
       "    </tr>\n",
       "  </tbody>\n",
       "</table>\n",
       "<p>5 rows × 29 columns</p>\n",
       "</div>"
      ],
      "text/plain": [
       "   class  lepton_pT  lepton_eta  lepton_phi  missing_energy_magnitude  \\\n",
       "0      1   0.907542    0.329147    0.359412                  1.497970   \n",
       "1      1   0.798835    1.470639   -1.635975                  0.453773   \n",
       "2      0   1.344385   -0.876626    0.935913                  1.992050   \n",
       "3      0   1.595839   -0.607811    0.007075                  1.818450   \n",
       "4      1   0.409391   -1.884684   -1.027292                  1.672452   \n",
       "\n",
       "   missing_energy_phi    jet1pt   jet1eta   jet1phi  jet1b.tag  ...   jet4eta  \\\n",
       "0           -0.313010  1.095531 -0.557525 -1.588230   2.173076  ... -1.138930   \n",
       "1            0.425629  1.104875  1.282322  1.381664   0.000000  ...  1.128848   \n",
       "2            0.882454  1.786066 -1.646778 -0.942383   0.000000  ... -0.678379   \n",
       "3           -0.111906  0.847550 -0.566437  1.581239   2.173076  ... -0.654227   \n",
       "4           -1.604598  1.338015  0.055427  0.013466   2.173076  ...  0.069496   \n",
       "\n",
       "    jet4phi  jet4b.tag      m_jj     m_jjj      m_lv     m_jlv      m_bb  \\\n",
       "0 -0.000819   0.000000  0.302220  0.833048  0.985700  0.978098  0.779732   \n",
       "1  0.900461   0.000000  0.909753  1.108330  0.985692  0.951331  0.803252   \n",
       "2 -1.360356   0.000000  0.946652  1.028704  0.998656  0.728281  0.869200   \n",
       "3 -1.274345   3.101961  0.823761  0.938191  0.971758  0.789176  0.430553   \n",
       "4  1.377130   3.101961  0.869418  1.222083  1.000627  0.545045  0.698653   \n",
       "\n",
       "      m_wbb    m_wwbb  \n",
       "0  0.992356  0.798343  \n",
       "1  0.865924  0.780118  \n",
       "2  1.026736  0.957904  \n",
       "3  0.961357  0.957818  \n",
       "4  0.977314  0.828786  \n",
       "\n",
       "[5 rows x 29 columns]"
      ]
     },
     "execution_count": 12,
     "metadata": {},
     "output_type": "execute_result"
    }
   ],
   "source": [
    "data.head()"
   ]
  },
  {
   "cell_type": "code",
   "execution_count": 13,
   "metadata": {},
   "outputs": [
    {
     "data": {
      "text/plain": [
       "class                       0\n",
       "lepton_pT                   0\n",
       "lepton_eta                  0\n",
       "lepton_phi                  0\n",
       "missing_energy_magnitude    0\n",
       "missing_energy_phi          0\n",
       "jet1pt                      0\n",
       "jet1eta                     0\n",
       "jet1phi                     0\n",
       "jet1b.tag                   0\n",
       "jet2pt                      0\n",
       "jet2eta                     0\n",
       "jet2phi                     0\n",
       "jet2b.tag                   0\n",
       "jet3pt                      0\n",
       "jet3eta                     0\n",
       "jet3phi                     0\n",
       "jet3b.tag                   0\n",
       "jet4pt                      0\n",
       "jet4eta                     0\n",
       "jet4phi                     0\n",
       "jet4b.tag                   0\n",
       "m_jj                        0\n",
       "m_jjj                       0\n",
       "m_lv                        0\n",
       "m_jlv                       0\n",
       "m_bb                        0\n",
       "m_wbb                       0\n",
       "m_wwbb                      0\n",
       "dtype: int64"
      ]
     },
     "execution_count": 13,
     "metadata": {},
     "output_type": "execute_result"
    }
   ],
   "source": [
    "data.isna().sum()"
   ]
  },
  {
   "cell_type": "code",
   "execution_count": 14,
   "metadata": {},
   "outputs": [
    {
     "data": {
      "text/plain": [
       "class                       0\n",
       "lepton_pT                   0\n",
       "lepton_eta                  0\n",
       "lepton_phi                  0\n",
       "missing_energy_magnitude    0\n",
       "missing_energy_phi          0\n",
       "jet1pt                      0\n",
       "jet1eta                     0\n",
       "jet1phi                     0\n",
       "jet1b.tag                   0\n",
       "jet2pt                      0\n",
       "jet2eta                     0\n",
       "jet2phi                     0\n",
       "jet2b.tag                   0\n",
       "jet3pt                      0\n",
       "jet3eta                     0\n",
       "jet3phi                     0\n",
       "jet3b.tag                   0\n",
       "jet4pt                      0\n",
       "jet4eta                     0\n",
       "jet4phi                     0\n",
       "jet4b.tag                   0\n",
       "m_jj                        0\n",
       "m_jjj                       0\n",
       "m_lv                        0\n",
       "m_jlv                       0\n",
       "m_bb                        0\n",
       "m_wbb                       0\n",
       "m_wwbb                      0\n",
       "dtype: int64"
      ]
     },
     "execution_count": 14,
     "metadata": {},
     "output_type": "execute_result"
    }
   ],
   "source": [
    "data.isnull().sum()"
   ]
  },
  {
   "cell_type": "code",
   "execution_count": 15,
   "metadata": {},
   "outputs": [
    {
     "data": {
      "text/plain": [
       "0        1\n",
       "1        1\n",
       "2        0\n",
       "3        0\n",
       "4        1\n",
       "        ..\n",
       "68631    0\n",
       "68632    0\n",
       "68633    1\n",
       "68634    0\n",
       "68635    0\n",
       "Name: class, Length: 68636, dtype: int64"
      ]
     },
     "execution_count": 15,
     "metadata": {},
     "output_type": "execute_result"
    }
   ],
   "source": [
    "y=data.loc[:, \"class\"]\n",
    "y"
   ]
  },
  {
   "cell_type": "code",
   "execution_count": 16,
   "metadata": {},
   "outputs": [
    {
     "data": {
      "text/html": [
       "<div>\n",
       "<style scoped>\n",
       "    .dataframe tbody tr th:only-of-type {\n",
       "        vertical-align: middle;\n",
       "    }\n",
       "\n",
       "    .dataframe tbody tr th {\n",
       "        vertical-align: top;\n",
       "    }\n",
       "\n",
       "    .dataframe thead th {\n",
       "        text-align: right;\n",
       "    }\n",
       "</style>\n",
       "<table border=\"1\" class=\"dataframe\">\n",
       "  <thead>\n",
       "    <tr style=\"text-align: right;\">\n",
       "      <th></th>\n",
       "      <th>lepton_pT</th>\n",
       "      <th>lepton_eta</th>\n",
       "      <th>lepton_phi</th>\n",
       "      <th>missing_energy_magnitude</th>\n",
       "      <th>missing_energy_phi</th>\n",
       "      <th>jet1pt</th>\n",
       "      <th>jet1eta</th>\n",
       "      <th>jet1phi</th>\n",
       "      <th>jet1b.tag</th>\n",
       "      <th>jet2pt</th>\n",
       "      <th>...</th>\n",
       "      <th>jet4eta</th>\n",
       "      <th>jet4phi</th>\n",
       "      <th>jet4b.tag</th>\n",
       "      <th>m_jj</th>\n",
       "      <th>m_jjj</th>\n",
       "      <th>m_lv</th>\n",
       "      <th>m_jlv</th>\n",
       "      <th>m_bb</th>\n",
       "      <th>m_wbb</th>\n",
       "      <th>m_wwbb</th>\n",
       "    </tr>\n",
       "  </thead>\n",
       "  <tbody>\n",
       "    <tr>\n",
       "      <td>0</td>\n",
       "      <td>0.907542</td>\n",
       "      <td>0.329147</td>\n",
       "      <td>0.359412</td>\n",
       "      <td>1.497970</td>\n",
       "      <td>-0.313010</td>\n",
       "      <td>1.095531</td>\n",
       "      <td>-0.557525</td>\n",
       "      <td>-1.588230</td>\n",
       "      <td>2.173076</td>\n",
       "      <td>0.812581</td>\n",
       "      <td>...</td>\n",
       "      <td>-1.138930</td>\n",
       "      <td>-0.000819</td>\n",
       "      <td>0.000000</td>\n",
       "      <td>0.302220</td>\n",
       "      <td>0.833048</td>\n",
       "      <td>0.985700</td>\n",
       "      <td>0.978098</td>\n",
       "      <td>0.779732</td>\n",
       "      <td>0.992356</td>\n",
       "      <td>0.798343</td>\n",
       "    </tr>\n",
       "    <tr>\n",
       "      <td>1</td>\n",
       "      <td>0.798835</td>\n",
       "      <td>1.470639</td>\n",
       "      <td>-1.635975</td>\n",
       "      <td>0.453773</td>\n",
       "      <td>0.425629</td>\n",
       "      <td>1.104875</td>\n",
       "      <td>1.282322</td>\n",
       "      <td>1.381664</td>\n",
       "      <td>0.000000</td>\n",
       "      <td>0.851737</td>\n",
       "      <td>...</td>\n",
       "      <td>1.128848</td>\n",
       "      <td>0.900461</td>\n",
       "      <td>0.000000</td>\n",
       "      <td>0.909753</td>\n",
       "      <td>1.108330</td>\n",
       "      <td>0.985692</td>\n",
       "      <td>0.951331</td>\n",
       "      <td>0.803252</td>\n",
       "      <td>0.865924</td>\n",
       "      <td>0.780118</td>\n",
       "    </tr>\n",
       "    <tr>\n",
       "      <td>2</td>\n",
       "      <td>1.344385</td>\n",
       "      <td>-0.876626</td>\n",
       "      <td>0.935913</td>\n",
       "      <td>1.992050</td>\n",
       "      <td>0.882454</td>\n",
       "      <td>1.786066</td>\n",
       "      <td>-1.646778</td>\n",
       "      <td>-0.942383</td>\n",
       "      <td>0.000000</td>\n",
       "      <td>2.423265</td>\n",
       "      <td>...</td>\n",
       "      <td>-0.678379</td>\n",
       "      <td>-1.360356</td>\n",
       "      <td>0.000000</td>\n",
       "      <td>0.946652</td>\n",
       "      <td>1.028704</td>\n",
       "      <td>0.998656</td>\n",
       "      <td>0.728281</td>\n",
       "      <td>0.869200</td>\n",
       "      <td>1.026736</td>\n",
       "      <td>0.957904</td>\n",
       "    </tr>\n",
       "    <tr>\n",
       "      <td>3</td>\n",
       "      <td>1.595839</td>\n",
       "      <td>-0.607811</td>\n",
       "      <td>0.007075</td>\n",
       "      <td>1.818450</td>\n",
       "      <td>-0.111906</td>\n",
       "      <td>0.847550</td>\n",
       "      <td>-0.566437</td>\n",
       "      <td>1.581239</td>\n",
       "      <td>2.173076</td>\n",
       "      <td>0.755421</td>\n",
       "      <td>...</td>\n",
       "      <td>-0.654227</td>\n",
       "      <td>-1.274345</td>\n",
       "      <td>3.101961</td>\n",
       "      <td>0.823761</td>\n",
       "      <td>0.938191</td>\n",
       "      <td>0.971758</td>\n",
       "      <td>0.789176</td>\n",
       "      <td>0.430553</td>\n",
       "      <td>0.961357</td>\n",
       "      <td>0.957818</td>\n",
       "    </tr>\n",
       "    <tr>\n",
       "      <td>4</td>\n",
       "      <td>0.409391</td>\n",
       "      <td>-1.884684</td>\n",
       "      <td>-1.027292</td>\n",
       "      <td>1.672452</td>\n",
       "      <td>-1.604598</td>\n",
       "      <td>1.338015</td>\n",
       "      <td>0.055427</td>\n",
       "      <td>0.013466</td>\n",
       "      <td>2.173076</td>\n",
       "      <td>0.509783</td>\n",
       "      <td>...</td>\n",
       "      <td>0.069496</td>\n",
       "      <td>1.377130</td>\n",
       "      <td>3.101961</td>\n",
       "      <td>0.869418</td>\n",
       "      <td>1.222083</td>\n",
       "      <td>1.000627</td>\n",
       "      <td>0.545045</td>\n",
       "      <td>0.698653</td>\n",
       "      <td>0.977314</td>\n",
       "      <td>0.828786</td>\n",
       "    </tr>\n",
       "    <tr>\n",
       "      <td>...</td>\n",
       "      <td>...</td>\n",
       "      <td>...</td>\n",
       "      <td>...</td>\n",
       "      <td>...</td>\n",
       "      <td>...</td>\n",
       "      <td>...</td>\n",
       "      <td>...</td>\n",
       "      <td>...</td>\n",
       "      <td>...</td>\n",
       "      <td>...</td>\n",
       "      <td>...</td>\n",
       "      <td>...</td>\n",
       "      <td>...</td>\n",
       "      <td>...</td>\n",
       "      <td>...</td>\n",
       "      <td>...</td>\n",
       "      <td>...</td>\n",
       "      <td>...</td>\n",
       "      <td>...</td>\n",
       "      <td>...</td>\n",
       "      <td>...</td>\n",
       "    </tr>\n",
       "    <tr>\n",
       "      <td>68631</td>\n",
       "      <td>0.631747</td>\n",
       "      <td>-1.732745</td>\n",
       "      <td>0.734498</td>\n",
       "      <td>0.647226</td>\n",
       "      <td>-0.795422</td>\n",
       "      <td>0.768035</td>\n",
       "      <td>0.966439</td>\n",
       "      <td>0.950915</td>\n",
       "      <td>0.000000</td>\n",
       "      <td>0.767634</td>\n",
       "      <td>...</td>\n",
       "      <td>0.079490</td>\n",
       "      <td>-0.501350</td>\n",
       "      <td>3.101961</td>\n",
       "      <td>1.843042</td>\n",
       "      <td>1.384108</td>\n",
       "      <td>0.989323</td>\n",
       "      <td>0.978744</td>\n",
       "      <td>0.467157</td>\n",
       "      <td>1.412571</td>\n",
       "      <td>2.054788</td>\n",
       "    </tr>\n",
       "    <tr>\n",
       "      <td>68632</td>\n",
       "      <td>0.967752</td>\n",
       "      <td>-0.317568</td>\n",
       "      <td>-1.579379</td>\n",
       "      <td>0.512029</td>\n",
       "      <td>0.764061</td>\n",
       "      <td>0.684489</td>\n",
       "      <td>-0.537720</td>\n",
       "      <td>-0.855346</td>\n",
       "      <td>0.000000</td>\n",
       "      <td>1.064136</td>\n",
       "      <td>...</td>\n",
       "      <td>0.173599</td>\n",
       "      <td>0.239561</td>\n",
       "      <td>3.101961</td>\n",
       "      <td>2.000598</td>\n",
       "      <td>1.331450</td>\n",
       "      <td>0.985605</td>\n",
       "      <td>0.880876</td>\n",
       "      <td>0.899824</td>\n",
       "      <td>0.978647</td>\n",
       "      <td>0.915264</td>\n",
       "    </tr>\n",
       "    <tr>\n",
       "      <td>68633</td>\n",
       "      <td>0.908091</td>\n",
       "      <td>-0.825006</td>\n",
       "      <td>-0.830871</td>\n",
       "      <td>0.736298</td>\n",
       "      <td>1.512713</td>\n",
       "      <td>0.881811</td>\n",
       "      <td>-0.363440</td>\n",
       "      <td>0.006813</td>\n",
       "      <td>1.086538</td>\n",
       "      <td>0.763227</td>\n",
       "      <td>...</td>\n",
       "      <td>-0.187013</td>\n",
       "      <td>0.716785</td>\n",
       "      <td>0.000000</td>\n",
       "      <td>1.317681</td>\n",
       "      <td>1.010795</td>\n",
       "      <td>0.985962</td>\n",
       "      <td>0.957878</td>\n",
       "      <td>1.454672</td>\n",
       "      <td>0.903937</td>\n",
       "      <td>0.786069</td>\n",
       "    </tr>\n",
       "    <tr>\n",
       "      <td>68634</td>\n",
       "      <td>0.903699</td>\n",
       "      <td>0.261943</td>\n",
       "      <td>-0.429149</td>\n",
       "      <td>1.892855</td>\n",
       "      <td>0.313687</td>\n",
       "      <td>0.493397</td>\n",
       "      <td>-1.494282</td>\n",
       "      <td>-1.458506</td>\n",
       "      <td>0.000000</td>\n",
       "      <td>0.575505</td>\n",
       "      <td>...</td>\n",
       "      <td>-0.283621</td>\n",
       "      <td>1.110772</td>\n",
       "      <td>3.101961</td>\n",
       "      <td>0.527038</td>\n",
       "      <td>0.607263</td>\n",
       "      <td>1.125286</td>\n",
       "      <td>0.634106</td>\n",
       "      <td>0.115543</td>\n",
       "      <td>0.425828</td>\n",
       "      <td>0.692506</td>\n",
       "    </tr>\n",
       "    <tr>\n",
       "      <td>68635</td>\n",
       "      <td>0.566047</td>\n",
       "      <td>-0.317568</td>\n",
       "      <td>0.062561</td>\n",
       "      <td>0.358186</td>\n",
       "      <td>-1.315823</td>\n",
       "      <td>0.691176</td>\n",
       "      <td>1.154583</td>\n",
       "      <td>-0.242759</td>\n",
       "      <td>2.173076</td>\n",
       "      <td>0.680634</td>\n",
       "      <td>...</td>\n",
       "      <td>-0.844943</td>\n",
       "      <td>-0.294922</td>\n",
       "      <td>0.000000</td>\n",
       "      <td>0.747239</td>\n",
       "      <td>1.008975</td>\n",
       "      <td>0.989497</td>\n",
       "      <td>1.203147</td>\n",
       "      <td>0.892492</td>\n",
       "      <td>1.090807</td>\n",
       "      <td>0.888965</td>\n",
       "    </tr>\n",
       "  </tbody>\n",
       "</table>\n",
       "<p>68636 rows × 28 columns</p>\n",
       "</div>"
      ],
      "text/plain": [
       "       lepton_pT  lepton_eta  lepton_phi  missing_energy_magnitude  \\\n",
       "0       0.907542    0.329147    0.359412                  1.497970   \n",
       "1       0.798835    1.470639   -1.635975                  0.453773   \n",
       "2       1.344385   -0.876626    0.935913                  1.992050   \n",
       "3       1.595839   -0.607811    0.007075                  1.818450   \n",
       "4       0.409391   -1.884684   -1.027292                  1.672452   \n",
       "...          ...         ...         ...                       ...   \n",
       "68631   0.631747   -1.732745    0.734498                  0.647226   \n",
       "68632   0.967752   -0.317568   -1.579379                  0.512029   \n",
       "68633   0.908091   -0.825006   -0.830871                  0.736298   \n",
       "68634   0.903699    0.261943   -0.429149                  1.892855   \n",
       "68635   0.566047   -0.317568    0.062561                  0.358186   \n",
       "\n",
       "       missing_energy_phi    jet1pt   jet1eta   jet1phi  jet1b.tag    jet2pt  \\\n",
       "0               -0.313010  1.095531 -0.557525 -1.588230   2.173076  0.812581   \n",
       "1                0.425629  1.104875  1.282322  1.381664   0.000000  0.851737   \n",
       "2                0.882454  1.786066 -1.646778 -0.942383   0.000000  2.423265   \n",
       "3               -0.111906  0.847550 -0.566437  1.581239   2.173076  0.755421   \n",
       "4               -1.604598  1.338015  0.055427  0.013466   2.173076  0.509783   \n",
       "...                   ...       ...       ...       ...        ...       ...   \n",
       "68631           -0.795422  0.768035  0.966439  0.950915   0.000000  0.767634   \n",
       "68632            0.764061  0.684489 -0.537720 -0.855346   0.000000  1.064136   \n",
       "68633            1.512713  0.881811 -0.363440  0.006813   1.086538  0.763227   \n",
       "68634            0.313687  0.493397 -1.494282 -1.458506   0.000000  0.575505   \n",
       "68635           -1.315823  0.691176  1.154583 -0.242759   2.173076  0.680634   \n",
       "\n",
       "       ...   jet4eta   jet4phi  jet4b.tag      m_jj     m_jjj      m_lv  \\\n",
       "0      ... -1.138930 -0.000819   0.000000  0.302220  0.833048  0.985700   \n",
       "1      ...  1.128848  0.900461   0.000000  0.909753  1.108330  0.985692   \n",
       "2      ... -0.678379 -1.360356   0.000000  0.946652  1.028704  0.998656   \n",
       "3      ... -0.654227 -1.274345   3.101961  0.823761  0.938191  0.971758   \n",
       "4      ...  0.069496  1.377130   3.101961  0.869418  1.222083  1.000627   \n",
       "...    ...       ...       ...        ...       ...       ...       ...   \n",
       "68631  ...  0.079490 -0.501350   3.101961  1.843042  1.384108  0.989323   \n",
       "68632  ...  0.173599  0.239561   3.101961  2.000598  1.331450  0.985605   \n",
       "68633  ... -0.187013  0.716785   0.000000  1.317681  1.010795  0.985962   \n",
       "68634  ... -0.283621  1.110772   3.101961  0.527038  0.607263  1.125286   \n",
       "68635  ... -0.844943 -0.294922   0.000000  0.747239  1.008975  0.989497   \n",
       "\n",
       "          m_jlv      m_bb     m_wbb    m_wwbb  \n",
       "0      0.978098  0.779732  0.992356  0.798343  \n",
       "1      0.951331  0.803252  0.865924  0.780118  \n",
       "2      0.728281  0.869200  1.026736  0.957904  \n",
       "3      0.789176  0.430553  0.961357  0.957818  \n",
       "4      0.545045  0.698653  0.977314  0.828786  \n",
       "...         ...       ...       ...       ...  \n",
       "68631  0.978744  0.467157  1.412571  2.054788  \n",
       "68632  0.880876  0.899824  0.978647  0.915264  \n",
       "68633  0.957878  1.454672  0.903937  0.786069  \n",
       "68634  0.634106  0.115543  0.425828  0.692506  \n",
       "68635  1.203147  0.892492  1.090807  0.888965  \n",
       "\n",
       "[68636 rows x 28 columns]"
      ]
     },
     "execution_count": 16,
     "metadata": {},
     "output_type": "execute_result"
    }
   ],
   "source": [
    "X= data.loc[:,data.columns!='class']\n",
    "X"
   ]
  },
  {
   "cell_type": "code",
   "execution_count": 17,
   "metadata": {},
   "outputs": [
    {
     "name": "stdout",
     "output_type": "stream",
     "text": [
      "(68636, 28) (68636,)\n"
     ]
    }
   ],
   "source": [
    "print(X.shape, y.shape)"
   ]
  },
  {
   "cell_type": "code",
   "execution_count": 18,
   "metadata": {},
   "outputs": [],
   "source": [
    "from sklearn.model_selection import train_test_split\n",
    "import pandas as pd\n",
    "import numpy as np\n",
    "import matplotlib.pyplot as plt\n",
    "%matplotlib inline"
   ]
  },
  {
   "cell_type": "code",
   "execution_count": 19,
   "metadata": {},
   "outputs": [],
   "source": [
    "X_train, X_test, y_train, y_test = train_test_split(X, y, test_size = 0.2, random_state = 122)"
   ]
  },
  {
   "cell_type": "code",
   "execution_count": 20,
   "metadata": {},
   "outputs": [
    {
     "name": "stdout",
     "output_type": "stream",
     "text": [
      "(54908, 28)\n",
      "(13728, 28)\n",
      "(54908,)\n",
      "(13728,)\n"
     ]
    }
   ],
   "source": [
    "print(X_train.shape)\n",
    "print(X_test.shape)\n",
    "print(y_train.shape)\n",
    "print(y_test.shape)"
   ]
  },
  {
   "cell_type": "code",
   "execution_count": 21,
   "metadata": {},
   "outputs": [
    {
     "data": {
      "text/plain": [
       "28"
      ]
     },
     "execution_count": 21,
     "metadata": {},
     "output_type": "execute_result"
    }
   ],
   "source": [
    "X_train.shape[1]"
   ]
  },
  {
   "cell_type": "code",
   "execution_count": 22,
   "metadata": {},
   "outputs": [
    {
     "data": {
      "text/plain": [
       "1    29051\n",
       "0    25857\n",
       "Name: class, dtype: int64"
      ]
     },
     "execution_count": 22,
     "metadata": {},
     "output_type": "execute_result"
    }
   ],
   "source": [
    "y_train.value_counts()"
   ]
  },
  {
   "cell_type": "code",
   "execution_count": 23,
   "metadata": {},
   "outputs": [
    {
     "name": "stdout",
     "output_type": "stream",
     "text": [
      "1    0.529085\n",
      "0    0.470915\n",
      "Name: class, dtype: float64\n"
     ]
    }
   ],
   "source": [
    "print(y_train.value_counts()/X_train.shape[0])"
   ]
  },
  {
   "cell_type": "code",
   "execution_count": 24,
   "metadata": {},
   "outputs": [
    {
     "name": "stdout",
     "output_type": "stream",
     "text": [
      "1    0.526515\n",
      "0    0.473485\n",
      "Name: class, dtype: float64\n"
     ]
    }
   ],
   "source": [
    "print(y_test.value_counts()/X_test.shape[0])"
   ]
  },
  {
   "cell_type": "code",
   "execution_count": 25,
   "metadata": {},
   "outputs": [],
   "source": [
    "import numpy as np\n",
    "from sklearn.datasets.samples_generator import make_blobs\n",
    "from sklearn.model_selection import train_test_split\n",
    "from matplotlib import pyplot as plt\n",
    "from sklearn.svm import LinearSVC\n",
    "from sklearn.metrics import confusion_matrix\n",
    "from sklearn import svm\n",
    "from sklearn.svm import SVC"
   ]
  },
  {
   "cell_type": "code",
   "execution_count": 26,
   "metadata": {},
   "outputs": [],
   "source": [
    "linear_svm = SVC(kernel='linear', C=1, random_state=0)"
   ]
  },
  {
   "cell_type": "code",
   "execution_count": 27,
   "metadata": {},
   "outputs": [
    {
     "data": {
      "text/plain": [
       "SVC(C=1, break_ties=False, cache_size=200, class_weight=None, coef0=0.0,\n",
       "    decision_function_shape='ovr', degree=3, gamma='scale', kernel='linear',\n",
       "    max_iter=-1, probability=False, random_state=0, shrinking=True, tol=0.001,\n",
       "    verbose=False)"
      ]
     },
     "execution_count": 27,
     "metadata": {},
     "output_type": "execute_result"
    }
   ],
   "source": [
    "linear_svm.fit(X=X_train, y= y_train)"
   ]
  },
  {
   "cell_type": "code",
   "execution_count": 28,
   "metadata": {},
   "outputs": [
    {
     "name": "stdout",
     "output_type": "stream",
     "text": [
      "TRAIN Conf Matrix : \n",
      " [[11282 14575]\n",
      " [ 5162 23889]]\n",
      "\n",
      "TRAIN DATA ACCURACY 0.6405441829970132\n",
      "\n",
      "Train data f1-score for class '1' 0.7076649633414797\n",
      "\n",
      "Train data f1-score for class '2' 0.5334152856906457\n",
      "\n",
      "\n",
      "--------------------------------------\n",
      "\n",
      "\n",
      "TEST Conf Matrix : \n",
      " [[2856 3644]\n",
      " [1258 5970]]\n",
      "\n",
      "TEST DATA ACCURACY 0.6429195804195804\n",
      "\n",
      "Test data f1-score for class '1' 0.7089419308870681\n",
      "\n",
      "Test data f1-score for class '2' 0.5381571509327303\n"
     ]
    }
   ],
   "source": [
    "## Predict\n",
    "train_predictions = linear_svm.predict(X_train)\n",
    "test_predictions = linear_svm.predict(X_test)\n",
    "\n",
    "### Train data accuracy\n",
    "from sklearn.metrics import accuracy_score,f1_score\n",
    "\n",
    "print(\"TRAIN Conf Matrix : \\n\", confusion_matrix(y_train, train_predictions))\n",
    "print(\"\\nTRAIN DATA ACCURACY\",accuracy_score(y_train,train_predictions))\n",
    "print(\"\\nTrain data f1-score for class '1'\",f1_score(y_train,train_predictions,pos_label=1))\n",
    "print(\"\\nTrain data f1-score for class '2'\",f1_score(y_train,train_predictions,pos_label=0))\n",
    "\n",
    "### Test data accuracy\n",
    "print(\"\\n\\n--------------------------------------\\n\\n\")\n",
    "\n",
    "print(\"TEST Conf Matrix : \\n\", confusion_matrix(y_test, test_predictions))\n",
    "print(\"\\nTEST DATA ACCURACY\",accuracy_score(y_test,test_predictions))\n",
    "print(\"\\nTest data f1-score for class '1'\",f1_score(y_test,test_predictions,pos_label=1))\n",
    "print(\"\\nTest data f1-score for class '2'\",f1_score(y_test,test_predictions,pos_label=0))"
   ]
  },
  {
   "cell_type": "code",
   "execution_count": 29,
   "metadata": {},
   "outputs": [],
   "source": [
    "unseendata=pd.read_csv('test.csv', na_values=[\"?\", \"\", \"null\"])"
   ]
  },
  {
   "cell_type": "code",
   "execution_count": 30,
   "metadata": {},
   "outputs": [],
   "source": [
    "unseendata_ids = unseendata.loc[:, \"id\"]\n",
    "unseendata.drop([\"id\"], axis = 1, inplace=True)"
   ]
  },
  {
   "cell_type": "code",
   "execution_count": 31,
   "metadata": {},
   "outputs": [
    {
     "data": {
      "text/plain": [
       "class                       1.000000\n",
       "lepton_pT                   0.708611\n",
       "lepton_eta                  1.190136\n",
       "lepton_phi                  0.593009\n",
       "missing_energy_magnitude    1.899366\n",
       "missing_energy_phi         -0.111872\n",
       "jet1pt                      0.871276\n",
       "jet1eta                     0.982283\n",
       "jet1phi                    -1.684691\n",
       "jet1b.tag                   2.173076\n",
       "jet2pt                      0.653187\n",
       "jet2eta                     1.648481\n",
       "jet2phi                    -1.415022\n",
       "jet2b.tag                   2.214872\n",
       "jet3pt                      0.956961\n",
       "jet3eta                     1.482058\n",
       "jet3phi                     0.697208\n",
       "jet3b.tag                   0.000000\n",
       "jet4pt                      0.609978\n",
       "jet4eta                     1.797605\n",
       "jet4phi                          NaN\n",
       "jet4b.tag                        NaN\n",
       "m_jj                             NaN\n",
       "m_jjj                            NaN\n",
       "m_lv                             NaN\n",
       "m_jlv                            NaN\n",
       "m_bb                             NaN\n",
       "m_wbb                            NaN\n",
       "m_wwbb                           NaN\n",
       "Name: 29413, dtype: float64"
      ]
     },
     "execution_count": 31,
     "metadata": {},
     "output_type": "execute_result"
    }
   ],
   "source": [
    "unseendata.loc[29413, :]"
   ]
  },
  {
   "cell_type": "code",
   "execution_count": 32,
   "metadata": {},
   "outputs": [
    {
     "data": {
      "text/plain": [
       "SimpleImputer(add_indicator=False, copy=True, fill_value=None,\n",
       "              missing_values=nan, strategy='most_frequent', verbose=0)"
      ]
     },
     "execution_count": 32,
     "metadata": {},
     "output_type": "execute_result"
    }
   ],
   "source": [
    "from sklearn.impute import SimpleImputer\n",
    "cat_imputer = SimpleImputer(strategy='most_frequent')\n",
    "cat_imputer.fit(X_train)"
   ]
  },
  {
   "cell_type": "code",
   "execution_count": 33,
   "metadata": {},
   "outputs": [],
   "source": [
    "X_unseendata=unseendata.loc[:,unseendata.columns!='class']"
   ]
  },
  {
   "cell_type": "code",
   "execution_count": 34,
   "metadata": {},
   "outputs": [],
   "source": [
    "y_unseendata=unseendata.loc[:, \"class\"]"
   ]
  },
  {
   "cell_type": "code",
   "execution_count": 35,
   "metadata": {},
   "outputs": [],
   "source": [
    "X_unseendata = pd.DataFrame(cat_imputer.transform(X_unseendata), columns=X_unseendata.columns)"
   ]
  },
  {
   "cell_type": "code",
   "execution_count": 36,
   "metadata": {},
   "outputs": [
    {
     "data": {
      "text/plain": [
       "lepton_pT                   0\n",
       "lepton_eta                  0\n",
       "lepton_phi                  0\n",
       "missing_energy_magnitude    0\n",
       "missing_energy_phi          0\n",
       "jet1pt                      0\n",
       "jet1eta                     0\n",
       "jet1phi                     0\n",
       "jet1b.tag                   0\n",
       "jet2pt                      0\n",
       "jet2eta                     0\n",
       "jet2phi                     0\n",
       "jet2b.tag                   0\n",
       "jet3pt                      0\n",
       "jet3eta                     0\n",
       "jet3phi                     0\n",
       "jet3b.tag                   0\n",
       "jet4pt                      0\n",
       "jet4eta                     0\n",
       "jet4phi                     0\n",
       "jet4b.tag                   0\n",
       "m_jj                        0\n",
       "m_jjj                       0\n",
       "m_lv                        0\n",
       "m_jlv                       0\n",
       "m_bb                        0\n",
       "m_wbb                       0\n",
       "m_wwbb                      0\n",
       "dtype: int64"
      ]
     },
     "execution_count": 36,
     "metadata": {},
     "output_type": "execute_result"
    }
   ],
   "source": [
    "X_unseendata.isnull().sum()"
   ]
  },
  {
   "cell_type": "code",
   "execution_count": 37,
   "metadata": {},
   "outputs": [
    {
     "data": {
      "text/plain": [
       "lepton_pT                   13786\n",
       "lepton_eta                   7895\n",
       "lepton_phi                  10476\n",
       "missing_energy_magnitude    29132\n",
       "missing_energy_phi          29138\n",
       "jet1pt                      17678\n",
       "jet1eta                      7838\n",
       "jet1phi                     10383\n",
       "jet1b.tag                       5\n",
       "jet2pt                      15784\n",
       "jet2eta                      8145\n",
       "jet2phi                     10507\n",
       "jet2b.tag                       5\n",
       "jet3pt                      13492\n",
       "jet3eta                      8498\n",
       "jet3phi                     10487\n",
       "jet3b.tag                       5\n",
       "jet4pt                      10920\n",
       "jet4eta                      8978\n",
       "jet4phi                      6234\n",
       "jet4b.tag                       3\n",
       "m_jj                        28629\n",
       "m_jjj                       26075\n",
       "m_lv                        20086\n",
       "m_jlv                       27167\n",
       "m_bb                        27698\n",
       "m_wbb                       27978\n",
       "m_wwbb                      28236\n",
       "dtype: int64"
      ]
     },
     "execution_count": 37,
     "metadata": {},
     "output_type": "execute_result"
    }
   ],
   "source": [
    "X_unseendata.nunique()"
   ]
  },
  {
   "cell_type": "code",
   "execution_count": 38,
   "metadata": {},
   "outputs": [],
   "source": [
    "unseendata_predictions = linear_svm.predict(X_unseendata)"
   ]
  },
  {
   "cell_type": "code",
   "execution_count": 39,
   "metadata": {},
   "outputs": [
    {
     "name": "stdout",
     "output_type": "stream",
     "text": [
      "unseendata Conf Matrix : \n",
      " [[ 6157  7709]\n",
      " [ 2876 12672]]\n",
      "\n",
      "unseendata DATA ACCURACY 0.6401373495614333\n",
      "\n",
      "unseendata data f1-score for class '1' 0.7053911881766818\n",
      "\n",
      "unseendata data f1-score for class '2' 0.5377527402943361\n"
     ]
    }
   ],
   "source": [
    "print(\"unseendata Conf Matrix : \\n\", confusion_matrix(y_unseendata, unseendata_predictions))\n",
    "print(\"\\nunseendata DATA ACCURACY\",accuracy_score(y_unseendata,unseendata_predictions))\n",
    "print(\"\\nunseendata data f1-score for class '1'\",f1_score(y_unseendata,unseendata_predictions,pos_label=1))\n",
    "print(\"\\nunseendata data f1-score for class '2'\",f1_score(y_unseendata,unseendata_predictions,pos_label=0))\n"
   ]
  },
  {
   "cell_type": "code",
   "execution_count": 40,
   "metadata": {},
   "outputs": [
    {
     "data": {
      "text/html": [
       "<div>\n",
       "<style scoped>\n",
       "    .dataframe tbody tr th:only-of-type {\n",
       "        vertical-align: middle;\n",
       "    }\n",
       "\n",
       "    .dataframe tbody tr th {\n",
       "        vertical-align: top;\n",
       "    }\n",
       "\n",
       "    .dataframe thead th {\n",
       "        text-align: right;\n",
       "    }\n",
       "</style>\n",
       "<table border=\"1\" class=\"dataframe\">\n",
       "  <thead>\n",
       "    <tr style=\"text-align: right;\">\n",
       "      <th></th>\n",
       "      <th>id</th>\n",
       "      <th>prediction</th>\n",
       "    </tr>\n",
       "  </thead>\n",
       "  <tbody>\n",
       "    <tr>\n",
       "      <td>0</td>\n",
       "      <td>68637</td>\n",
       "      <td>1</td>\n",
       "    </tr>\n",
       "    <tr>\n",
       "      <td>1</td>\n",
       "      <td>68638</td>\n",
       "      <td>1</td>\n",
       "    </tr>\n",
       "    <tr>\n",
       "      <td>2</td>\n",
       "      <td>68639</td>\n",
       "      <td>1</td>\n",
       "    </tr>\n",
       "    <tr>\n",
       "      <td>3</td>\n",
       "      <td>68640</td>\n",
       "      <td>1</td>\n",
       "    </tr>\n",
       "    <tr>\n",
       "      <td>4</td>\n",
       "      <td>68641</td>\n",
       "      <td>1</td>\n",
       "    </tr>\n",
       "    <tr>\n",
       "      <td>...</td>\n",
       "      <td>...</td>\n",
       "      <td>...</td>\n",
       "    </tr>\n",
       "    <tr>\n",
       "      <td>29409</td>\n",
       "      <td>98046</td>\n",
       "      <td>1</td>\n",
       "    </tr>\n",
       "    <tr>\n",
       "      <td>29410</td>\n",
       "      <td>98047</td>\n",
       "      <td>1</td>\n",
       "    </tr>\n",
       "    <tr>\n",
       "      <td>29411</td>\n",
       "      <td>98048</td>\n",
       "      <td>0</td>\n",
       "    </tr>\n",
       "    <tr>\n",
       "      <td>29412</td>\n",
       "      <td>98049</td>\n",
       "      <td>0</td>\n",
       "    </tr>\n",
       "    <tr>\n",
       "      <td>29413</td>\n",
       "      <td>98050</td>\n",
       "      <td>0</td>\n",
       "    </tr>\n",
       "  </tbody>\n",
       "</table>\n",
       "<p>29414 rows × 2 columns</p>\n",
       "</div>"
      ],
      "text/plain": [
       "          id  prediction\n",
       "0      68637           1\n",
       "1      68638           1\n",
       "2      68639           1\n",
       "3      68640           1\n",
       "4      68641           1\n",
       "...      ...         ...\n",
       "29409  98046           1\n",
       "29410  98047           1\n",
       "29411  98048           0\n",
       "29412  98049           0\n",
       "29413  98050           0\n",
       "\n",
       "[29414 rows x 2 columns]"
      ]
     },
     "execution_count": 40,
     "metadata": {},
     "output_type": "execute_result"
    }
   ],
   "source": [
    "final_output=pd.DataFrame({'id':unseendata_ids, 'prediction':unseendata_predictions})\n",
    "id_n_prediction = [\"id\", \"prediction\"]\n",
    "final_output = final_output.loc[:,id_n_prediction]\n",
    "#final_output.to_csv(\"final_output01.csv\")\n",
    "final_output\n"
   ]
  },
  {
   "cell_type": "code",
   "execution_count": 41,
   "metadata": {},
   "outputs": [],
   "source": [
    "final_output.to_csv(\"final_output01.csv\")"
   ]
  },
  {
   "cell_type": "code",
   "execution_count": 42,
   "metadata": {},
   "outputs": [],
   "source": [
    "import pandas as pd"
   ]
  },
  {
   "cell_type": "code",
   "execution_count": 43,
   "metadata": {},
   "outputs": [],
   "source": [
    "x = pd.read_csv(\"final_output01.csv\",)"
   ]
  },
  {
   "cell_type": "code",
   "execution_count": 44,
   "metadata": {},
   "outputs": [
    {
     "data": {
      "text/html": [
       "<div>\n",
       "<style scoped>\n",
       "    .dataframe tbody tr th:only-of-type {\n",
       "        vertical-align: middle;\n",
       "    }\n",
       "\n",
       "    .dataframe tbody tr th {\n",
       "        vertical-align: top;\n",
       "    }\n",
       "\n",
       "    .dataframe thead th {\n",
       "        text-align: right;\n",
       "    }\n",
       "</style>\n",
       "<table border=\"1\" class=\"dataframe\">\n",
       "  <thead>\n",
       "    <tr style=\"text-align: right;\">\n",
       "      <th></th>\n",
       "      <th>Unnamed: 0</th>\n",
       "      <th>id</th>\n",
       "      <th>prediction</th>\n",
       "    </tr>\n",
       "  </thead>\n",
       "  <tbody>\n",
       "    <tr>\n",
       "      <td>0</td>\n",
       "      <td>0</td>\n",
       "      <td>68637</td>\n",
       "      <td>1</td>\n",
       "    </tr>\n",
       "    <tr>\n",
       "      <td>1</td>\n",
       "      <td>1</td>\n",
       "      <td>68638</td>\n",
       "      <td>1</td>\n",
       "    </tr>\n",
       "    <tr>\n",
       "      <td>2</td>\n",
       "      <td>2</td>\n",
       "      <td>68639</td>\n",
       "      <td>1</td>\n",
       "    </tr>\n",
       "    <tr>\n",
       "      <td>3</td>\n",
       "      <td>3</td>\n",
       "      <td>68640</td>\n",
       "      <td>1</td>\n",
       "    </tr>\n",
       "    <tr>\n",
       "      <td>4</td>\n",
       "      <td>4</td>\n",
       "      <td>68641</td>\n",
       "      <td>1</td>\n",
       "    </tr>\n",
       "  </tbody>\n",
       "</table>\n",
       "</div>"
      ],
      "text/plain": [
       "   Unnamed: 0     id  prediction\n",
       "0           0  68637           1\n",
       "1           1  68638           1\n",
       "2           2  68639           1\n",
       "3           3  68640           1\n",
       "4           4  68641           1"
      ]
     },
     "execution_count": 44,
     "metadata": {},
     "output_type": "execute_result"
    }
   ],
   "source": [
    "x.head()"
   ]
  },
  {
   "cell_type": "code",
   "execution_count": 45,
   "metadata": {},
   "outputs": [
    {
     "data": {
      "text/plain": [
       "(29414, 3)"
      ]
     },
     "execution_count": 45,
     "metadata": {},
     "output_type": "execute_result"
    }
   ],
   "source": [
    "x.shape\n"
   ]
  },
  {
   "cell_type": "code",
   "execution_count": null,
   "metadata": {},
   "outputs": [],
   "source": []
  },
  {
   "cell_type": "code",
   "execution_count": null,
   "metadata": {},
   "outputs": [],
   "source": []
  },
  {
   "cell_type": "code",
   "execution_count": null,
   "metadata": {},
   "outputs": [],
   "source": []
  }
 ],
 "metadata": {
  "kernelspec": {
   "display_name": "Python 3",
   "language": "python",
   "name": "python3"
  },
  "language_info": {
   "codemirror_mode": {
    "name": "ipython",
    "version": 3
   },
   "file_extension": ".py",
   "mimetype": "text/x-python",
   "name": "python",
   "nbconvert_exporter": "python",
   "pygments_lexer": "ipython3",
   "version": "3.7.4"
  }
 },
 "nbformat": 4,
 "nbformat_minor": 2
}
